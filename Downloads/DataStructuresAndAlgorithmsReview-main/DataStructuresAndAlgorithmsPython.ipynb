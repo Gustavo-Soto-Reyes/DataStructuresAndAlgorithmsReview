{
 "cells": [
  {
   "cell_type": "code",
   "execution_count": 123,
   "metadata": {},
   "outputs": [],
   "source": [
    "import random\n",
    "import time\n",
    "# start = time.time()\n",
    "# end = time.time()\n",
    "print(f\"Runtime of the program is {end - start}\")"
   ]
  },
  {
   "cell_type": "markdown",
   "metadata": {},
   "source": [
    "# Lists(Arrays)"
   ]
  },
  {
   "cell_type": "code",
   "execution_count": 150,
   "metadata": {},
   "outputs": [
    {
     "name": "stdout",
     "output_type": "stream",
     "text": [
      "[7058, 3759, 2057, 9717, 8728, 5500, 2178, 1268, 1616, 5706, 5770, 3967, 395, 9364, 6259, 7379, 7923, 2920, 2736, 4084, 596, 3763, 1773, 9190, 5798, 5557, 9013, 6072, 8790, 9937, 5773, 494, 5229, 8753, 4347, 2955, 4049, 3310, 7261, 9860, 3587, 9196, 8448, 9886, 7279, 8207, 8300, 8065, 2764, 7620, 1296, 9618, 8075, 1754, 6390, 3867, 2994, 874, 4883, 7827, 7214, 4366, 9533, 7609, 5629, 6934, 3492, 3664, 8763, 1611, 6105, 5690, 4066, 1630, 7996, 1575, 8665, 1814, 4809, 9443, 9923, 4064, 3193, 1839, 2392, 5521, 2309, 9538, 1351, 7759, 7838, 221, 1623, 5464, 4295, 9738, 5103, 4473, 7286, 5638]\n"
     ]
    }
   ],
   "source": [
    "my_array = []\n",
    "for i in range(100):\n",
    "    my_array.append(random.randint(0,10000))\n",
    "# my_array.sort()\n",
    "print(my_array)"
   ]
  },
  {
   "cell_type": "markdown",
   "metadata": {},
   "source": [
    "# Stacks"
   ]
  },
  {
   "cell_type": "code",
   "execution_count": 1,
   "metadata": {},
   "outputs": [],
   "source": [
    "# Methods peek() push() pop() isEmpty() \n",
    "# top of the stack will be the left(index 0)"
   ]
  },
  {
   "cell_type": "code",
   "execution_count": 397,
   "metadata": {},
   "outputs": [],
   "source": [
    "class Stack:\n",
    "    def __init__(self):\n",
    "        self.stack = []\n",
    "    def __str__(self):\n",
    "        result = \"[Top]\\n\"\n",
    "        for i in range(len(self.stack)-1):\n",
    "            result += \"[\"+str(self.stack[i])+\"]\\n\"\n",
    "        \n",
    "        return result + \"[\" + str(self.stack[len(self.stack)-1]) + \"]\\n[Bottom]\"\n",
    "            \n",
    "    def peek(self):\n",
    "        if(not self.is_empty()):\n",
    "            return self.stack[0]\n",
    "        else:\n",
    "            raise(Exception(\"The stack is empty\"))\n",
    "    def is_empty(self):\n",
    "        if(len(self.stack)==0):\n",
    "            return True\n",
    "        else:\n",
    "            return False\n",
    "    def push(self, item):\n",
    "        self.stack.insert(0, item)  \n",
    "    def pop(self):\n",
    "        if(not self.is_empty()):\n",
    "            return self.stack.pop(0)\n",
    "        else:\n",
    "            raise(Exception(\"The stack is empty\"))"
   ]
  },
  {
   "cell_type": "code",
   "execution_count": 401,
   "metadata": {},
   "outputs": [
    {
     "name": "stdout",
     "output_type": "stream",
     "text": [
      "[Top]\n",
      "[904]\n",
      "[77]\n",
      "[5]\n",
      "[400]\n",
      "[23]\n",
      "[Bottom]\n",
      "[Top]\n",
      "[400]\n",
      "[23]\n",
      "[Bottom]\n"
     ]
    }
   ],
   "source": [
    "my_stack = Stack()\n",
    "# for i in range(100):\n",
    "#     my_stack.push(random.randint(0,10000))\n",
    "my_stack.push(23)\n",
    "my_stack.push(400)\n",
    "my_stack.push(5)\n",
    "my_stack.push(77)\n",
    "my_stack.push(904)\n",
    "print(my_stack)\n",
    "my_stack.pop()\n",
    "my_stack.pop()\n",
    "my_stack.pop()\n",
    "print(my_stack)\n",
    "\n"
   ]
  },
  {
   "cell_type": "markdown",
   "metadata": {},
   "source": [
    "# Queues"
   ]
  },
  {
   "cell_type": "code",
   "execution_count": 2,
   "metadata": {},
   "outputs": [],
   "source": [
    "# Methods peek() push() pop() isEmpty() \n",
    "# front of the stack will be the left(index 0)"
   ]
  },
  {
   "cell_type": "code",
   "execution_count": 13,
   "metadata": {},
   "outputs": [],
   "source": [
    "class Queue:\n",
    "    def __init__(self):\n",
    "        self.stack = []\n",
    "    def __str__(self):\n",
    "        result = \"[Front] \"\n",
    "        for i in range(len(self.stack)-1):\n",
    "            result += \"[\"+str(self.stack[i])+\"] \"\n",
    "        \n",
    "        return result + \"[\" + str(self.stack[len(self.stack)-1]) + \"] [Back]\"\n",
    "            \n",
    "    def peek(self):\n",
    "        if(not self.is_empty()):\n",
    "            return self.stack[0]\n",
    "        else:\n",
    "            raise(Exception(\"The stack is empty\"))\n",
    "    def is_empty(self):\n",
    "        if(len(self.stack)==0):\n",
    "            return True\n",
    "        else:\n",
    "            return False\n",
    "    def push(self, item):\n",
    "        self.stack.append(item)  \n",
    "    def pop(self):\n",
    "        if(not self.is_empty()):\n",
    "            return self.stack.pop(0)\n",
    "        else:\n",
    "            raise(Exception(\"The stack is empty\"))"
   ]
  },
  {
   "cell_type": "code",
   "execution_count": 11,
   "metadata": {},
   "outputs": [
    {
     "name": "stdout",
     "output_type": "stream",
     "text": [
      "[Front] [23] [400] [5] [77] [904] [Back]\n",
      "[Front] [77] [904] [Back]\n"
     ]
    }
   ],
   "source": [
    "my_queue = Queue()\n",
    "# for i in range(100):\n",
    "#     my_stack.push(random.randint(0,10000))\n",
    "my_queue.push(23)\n",
    "my_queue.push(400)\n",
    "my_queue.push(5)\n",
    "my_queue.push(77)\n",
    "my_queue.push(904)\n",
    "print(my_queue)\n",
    "my_queue.pop()\n",
    "my_queue.pop()\n",
    "my_queue.pop()\n",
    "print(my_queue)"
   ]
  },
  {
   "cell_type": "markdown",
   "metadata": {},
   "source": [
    "# Linked list "
   ]
  },
  {
   "cell_type": "code",
   "execution_count": 39,
   "metadata": {},
   "outputs": [],
   "source": [
    "class Node:\n",
    "    def __init__(self, d, n):\n",
    "        self.data = d\n",
    "        self.next = n"
   ]
  },
  {
   "cell_type": "code",
   "execution_count": 344,
   "metadata": {},
   "outputs": [],
   "source": [
    "class LinkedList:\n",
    "    def __init__(self):\n",
    "        self.head = None\n",
    "    def isEmpty(self):\n",
    "        if (self.head == None):\n",
    "            return True\n",
    "        else:\n",
    "            return False\n",
    "    def __str__(self):\n",
    "        result = \"[Head] ==> \"\n",
    "        current = self.head\n",
    "        if (self.isEmpty()):\n",
    "            None\n",
    "        else:\n",
    "            while(current != None):\n",
    "                result += str(current.data) + \" ==> \"\n",
    "                current = current.next\n",
    "        return result +  \"[Tail]\"                    \n",
    "    def addFirst(self, data):\n",
    "        new = Node(data, self.head)\n",
    "        self.head = new\n",
    "    def addLast(self, data):\n",
    "        current = self.head\n",
    "        if self.isEmpty():\n",
    "            self.addFirst(data)\n",
    "        else:\n",
    "            while(current.next != None):\n",
    "                current = current.next\n",
    "            current.next = Node(data, None)\n",
    "    def addIndex(self, index, data):\n",
    "        if index == 0:\n",
    "            self.addFirst(data)\n",
    "        else:        \n",
    "            try:\n",
    "                current = self.head\n",
    "                for i in range(index-1):\n",
    "                    current = current.next\n",
    "                current.next = Node(data, current.next)\n",
    "\n",
    "            except:\n",
    "                raise(Exception(\"Index out of bounds!\"))                        "
   ]
  },
  {
   "cell_type": "code",
   "execution_count": 183,
   "metadata": {},
   "outputs": [],
   "source": [
    "my_linked_list = LinkedList()\n",
    "my_linked_list.addIndex(0, 4)\n",
    "my_linked_list.addFirst(4)\n",
    "print(my_linked_list)"
   ]
  },
  {
   "cell_type": "code",
   "execution_count": 200,
   "metadata": {},
   "outputs": [],
   "source": []
  },
  {
   "cell_type": "markdown",
   "metadata": {},
   "source": [
    "# Trees "
   ]
  },
  {
   "cell_type": "code",
   "execution_count": null,
   "metadata": {},
   "outputs": [],
   "source": []
  }
 ],
 "metadata": {
  "kernelspec": {
   "display_name": "Python 3",
   "language": "python",
   "name": "python3"
  },
  "language_info": {
   "codemirror_mode": {
    "name": "ipython",
    "version": 3
   },
   "file_extension": ".py",
   "mimetype": "text/x-python",
   "name": "python",
   "nbconvert_exporter": "python",
   "pygments_lexer": "ipython3",
   "version": "3.8.5"
  }
 },
 "nbformat": 4,
 "nbformat_minor": 4
}
