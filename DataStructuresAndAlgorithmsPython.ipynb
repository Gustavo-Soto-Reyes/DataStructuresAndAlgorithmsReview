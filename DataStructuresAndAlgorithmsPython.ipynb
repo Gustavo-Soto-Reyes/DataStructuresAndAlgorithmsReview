{
 "cells": [
  {
   "cell_type": "code",
   "execution_count": 123,
   "metadata": {},
   "outputs": [],
   "source": [
    "import random\n",
    "import time\n",
    "# start = time.time()\n",
    "# end = time.time()\n",
    "print(f\"Runtime of the program is {end - start}\")"
   ]
  },
  {
   "cell_type": "markdown",
   "metadata": {},
   "source": [
    "# Lists(Arrays)"
   ]
  },
  {
   "cell_type": "code",
   "execution_count": 150,
   "metadata": {},
   "outputs": [
    {
     "name": "stdout",
     "output_type": "stream",
     "text": [
      "[7058, 3759, 2057, 9717, 8728, 5500, 2178, 1268, 1616, 5706, 5770, 3967, 395, 9364, 6259, 7379, 7923, 2920, 2736, 4084, 596, 3763, 1773, 9190, 5798, 5557, 9013, 6072, 8790, 9937, 5773, 494, 5229, 8753, 4347, 2955, 4049, 3310, 7261, 9860, 3587, 9196, 8448, 9886, 7279, 8207, 8300, 8065, 2764, 7620, 1296, 9618, 8075, 1754, 6390, 3867, 2994, 874, 4883, 7827, 7214, 4366, 9533, 7609, 5629, 6934, 3492, 3664, 8763, 1611, 6105, 5690, 4066, 1630, 7996, 1575, 8665, 1814, 4809, 9443, 9923, 4064, 3193, 1839, 2392, 5521, 2309, 9538, 1351, 7759, 7838, 221, 1623, 5464, 4295, 9738, 5103, 4473, 7286, 5638]\n"
     ]
    }
   ],
   "source": [
    "my_array = []\n",
    "for i in range(100):\n",
    "    my_array.append(random.randint(0,10000))\n",
    "# my_array.sort()\n",
    "print(my_array)"
   ]
  },
  {
   "cell_type": "markdown",
   "metadata": {},
   "source": [
    "# Stacks"
   ]
  },
  {
   "cell_type": "code",
   "execution_count": 1,
   "metadata": {},
   "outputs": [],
   "source": [
    "# Methods peek() push() pop() isEmpty() \n",
    "# top of the stack will be the left(index 0)"
   ]
  },
  {
   "cell_type": "code",
   "execution_count": 397,
   "metadata": {},
   "outputs": [],
   "source": [
    "class Stack:\n",
    "    def __init__(self):\n",
    "        self.stack = []\n",
    "    def __str__(self):\n",
    "        result = \"[Top]\\n\"\n",
    "        for i in range(len(self.stack)-1):\n",
    "            result += \"[\"+str(self.stack[i])+\"]\\n\"\n",
    "        \n",
    "        return result + \"[\" + str(self.stack[len(self.stack)-1]) + \"]\\n[Bottom]\"\n",
    "            \n",
    "    def peek(self):\n",
    "        if(not self.is_empty()):\n",
    "            return self.stack[0]\n",
    "        else:\n",
    "            raise(Exception(\"The stack is empty\"))\n",
    "    def is_empty(self):\n",
    "        if(len(self.stack)==0):\n",
    "            return True\n",
    "        else:\n",
    "            return False\n",
    "    def push(self, item):\n",
    "        self.stack.insert(0, item)  \n",
    "    def pop(self):\n",
    "        if(not self.is_empty()):\n",
    "            return self.stack.pop(0)\n",
    "        else:\n",
    "            raise(Exception(\"The stack is empty\"))"
   ]
  },
  {
   "cell_type": "code",
   "execution_count": 401,
   "metadata": {},
   "outputs": [
    {
     "name": "stdout",
     "output_type": "stream",
     "text": [
      "[Top]\n",
      "[904]\n",
      "[77]\n",
      "[5]\n",
      "[400]\n",
      "[23]\n",
      "[Bottom]\n",
      "[Top]\n",
      "[400]\n",
      "[23]\n",
      "[Bottom]\n"
     ]
    }
   ],
   "source": [
    "my_stack = Stack()\n",
    "# for i in range(100):\n",
    "#     my_stack.push(random.randint(0,10000))\n",
    "my_stack.push(23)\n",
    "my_stack.push(400)\n",
    "my_stack.push(5)\n",
    "my_stack.push(77)\n",
    "my_stack.push(904)\n",
    "print(my_stack)\n",
    "my_stack.pop()\n",
    "my_stack.pop()\n",
    "my_stack.pop()\n",
    "print(my_stack)\n",
    "\n"
   ]
  },
  {
   "cell_type": "markdown",
   "metadata": {},
   "source": [
    "# Queues"
   ]
  },
  {
   "cell_type": "code",
   "execution_count": 2,
   "metadata": {},
   "outputs": [],
   "source": [
    "# Methods peek() push() pop() isEmpty() \n",
    "# front of the stack will be the left(index 0)"
   ]
  },
  {
   "cell_type": "code",
   "execution_count": 13,
   "metadata": {},
   "outputs": [],
   "source": [
    "class Queue:\n",
    "    def __init__(self):\n",
    "        self.stack = []\n",
    "    def __str__(self):\n",
    "        result = \"[Front] \"\n",
    "        for i in range(len(self.stack)-1):\n",
    "            result += \"[\"+str(self.stack[i])+\"] \"\n",
    "        \n",
    "        return result + \"[\" + str(self.stack[len(self.stack)-1]) + \"] [Back]\"\n",
    "            \n",
    "    def peek(self):\n",
    "        if(not self.is_empty()):\n",
    "            return self.stack[0]\n",
    "        else:\n",
    "            raise(Exception(\"The stack is empty\"))\n",
    "    def is_empty(self):\n",
    "        if(len(self.stack)==0):\n",
    "            return True\n",
    "        else:\n",
    "            return False\n",
    "    def push(self, item):\n",
    "        self.stack.append(item)  \n",
    "    def pop(self):\n",
    "        if(not self.is_empty()):\n",
    "            return self.stack.pop(0)\n",
    "        else:\n",
    "            raise(Exception(\"The stack is empty\"))"
   ]
  },
  {
   "cell_type": "code",
   "execution_count": 11,
   "metadata": {},
   "outputs": [
    {
     "name": "stdout",
     "output_type": "stream",
     "text": [
      "[Front] [23] [400] [5] [77] [904] [Back]\n",
      "[Front] [77] [904] [Back]\n"
     ]
    }
   ],
   "source": [
    "my_queue = Queue()\n",
    "# for i in range(100):\n",
    "#     my_stack.push(random.randint(0,10000))\n",
    "my_queue.push(23)\n",
    "my_queue.push(400)\n",
    "my_queue.push(5)\n",
    "my_queue.push(77)\n",
    "my_queue.push(904)\n",
    "print(my_queue)\n",
    "my_queue.pop()\n",
    "my_queue.pop()\n",
    "my_queue.pop()\n",
    "print(my_queue)"
   ]
  },
  {
   "cell_type": "markdown",
   "metadata": {},
   "source": [
    "# Linked list "
   ]
  },
  {
   "cell_type": "code",
   "execution_count": 6,
   "metadata": {},
   "outputs": [],
   "source": [
    "class Node:\n",
    "    def __init__(self, d, n):\n",
    "        self.data = d\n",
    "        self.next = n"
   ]
  },
  {
   "cell_type": "code",
   "execution_count": 7,
   "metadata": {},
   "outputs": [],
   "source": [
    "class LinkedList:\n",
    "    def __init__(self):\n",
    "        self.head = None\n",
    "    def isEmpty(self):\n",
    "        if (self.head == None):\n",
    "            return True\n",
    "        else:\n",
    "            return False\n",
    "    def __str__(self):\n",
    "        result = \"[Head] ==> \"\n",
    "        current = self.head\n",
    "        if (self.isEmpty()):\n",
    "            None\n",
    "        else:\n",
    "            while(current != None):\n",
    "                result += str(current.data) + \" ==> \"\n",
    "                current = current.next\n",
    "        return result +  \"[Tail]\"                    \n",
    "    def addFirst(self, data):\n",
    "        new = Node(data, self.head)\n",
    "        self.head = new\n",
    "    def addLast(self, data):\n",
    "        current = self.head\n",
    "        if self.isEmpty():\n",
    "            self.addFirst(data)\n",
    "        else:\n",
    "            while(current.next != None):\n",
    "                current = current.next\n",
    "            current.next = Node(data, None)\n",
    "    def addIndex(self, index, data):\n",
    "        if index == 0:\n",
    "            self.addFirst(data)\n",
    "        else:        \n",
    "            try:\n",
    "                current = self.head\n",
    "                for i in range(index-1):\n",
    "                    current = current.next\n",
    "                current.next = Node(data, current.next)\n",
    "\n",
    "            except:\n",
    "                raise(Exception(\"Index out of bounds!\"))                        "
   ]
  },
  {
   "cell_type": "code",
   "execution_count": 8,
   "metadata": {},
   "outputs": [
    {
     "name": "stdout",
     "output_type": "stream",
     "text": [
      "[Head] ==> 4 ==> 4 ==> [Tail]\n"
     ]
    }
   ],
   "source": [
    "my_linked_list = LinkedList()\n",
    "my_linked_list.addIndex(0, 4)\n",
    "my_linked_list.addFirst(4)\n",
    "print(my_linked_list)"
   ]
  },
  {
   "cell_type": "code",
   "execution_count": null,
   "metadata": {},
   "outputs": [],
   "source": []
  },
  {
   "cell_type": "markdown",
   "metadata": {},
   "source": [
    "# Trees "
   ]
  },
  {
   "cell_type": "code",
   "execution_count": 9,
   "metadata": {},
   "outputs": [],
   "source": [
    "#New trees"
   ]
  },
  {
   "cell_type": "code",
   "execution_count": null,
   "metadata": {},
   "outputs": [],
   "source": []
  },
  {
   "cell_type": "markdown",
   "metadata": {},
   "source": [
    "# Leetcode"
   ]
  },
  {
   "cell_type": "markdown",
   "metadata": {},
   "source": [
    "### 2325. Decode the Message"
   ]
  },
  {
   "cell_type": "code",
   "execution_count": 10,
   "metadata": {},
   "outputs": [],
   "source": [
    "class Solution(object):\n",
    "    \"\"\"\n",
    "      :type key: str\n",
    "      :type message: str\n",
    "      :rtype: str\n",
    "      \"\"\"\n",
    "    def decodeMessage(self, key, message):\n",
    "      alf = \"abcdefghijklmnopqrstuvwxyz\"\n",
    "      alfindex = 0\n",
    "      map = {}\n",
    "      for letter in key:\n",
    "        if alfindex<26 and letter not in map.keys() and letter != ' ':\n",
    "          map[letter] = alf[alfindex]\n",
    "          alfindex+=1\n",
    "      \n",
    "      result = \"\"\n",
    "      for letter in message:\n",
    "        if letter == ' ':\n",
    "          result += \" \"\n",
    "        else:\n",
    "          result +=(map[letter])\n",
    "      return result      "
   ]
  },
  {
   "cell_type": "code",
   "execution_count": 11,
   "metadata": {},
   "outputs": [
    {
     "data": {
      "text/plain": [
       "'this is a secret'"
      ]
     },
     "execution_count": 11,
     "metadata": {},
     "output_type": "execute_result"
    }
   ],
   "source": [
    "key = \"the quick brown fox jumps over the lazy dog\"\n",
    "message = \"vkbs bs t suepuv\"\n",
    "sol = Solution()\n",
    "sol.decodeMessage(key, message)"
   ]
  },
  {
   "cell_type": "markdown",
   "metadata": {},
   "source": [
    "### 1252. Cells with Odd Values in a Matrix"
   ]
  },
  {
   "cell_type": "code",
   "execution_count": 13,
   "metadata": {},
   "outputs": [],
   "source": [
    "class Solution():\n",
    "    def oddCells(self, m, n, indices):\n",
    "        result = [[0]*n for row in range(m)]\n",
    "\n",
    "        for row in range(len(indices)):\n",
    "          result[indices[row][0]] = [x+1 for x in result[indices[row][0]]]\n",
    "          for rrow in range(len(result)):\n",
    "            result[rrow][indices[row][1]] +=1\n",
    "\n",
    "        odds = 0\n",
    "        for row in range(len(result)):\n",
    "          for col in range(len(result[row])):\n",
    "            if result[row][col] %2 == 1:\n",
    "              odds +=1\n",
    "\n",
    "        return odds\n",
    "\n",
    "        "
   ]
  },
  {
   "cell_type": "code",
   "execution_count": 14,
   "metadata": {},
   "outputs": [
    {
     "data": {
      "text/plain": [
       "6"
      ]
     },
     "execution_count": 14,
     "metadata": {},
     "output_type": "execute_result"
    }
   ],
   "source": [
    "#test case\n",
    "m = 2\n",
    "n = 3\n",
    "indices = [[0,1],[1,1]]\n",
    "s = Solution()\n",
    "s.oddCells(m,n,indices)"
   ]
  },
  {
   "cell_type": "code",
   "execution_count": 15,
   "metadata": {},
   "outputs": [],
   "source": [
    "# https://leetcode.com/problems/cells-with-odd-values-in-a-matrix/submissions/"
   ]
  },
  {
   "cell_type": "markdown",
   "metadata": {},
   "source": [
    "### 45. Jump Game II\n",
    "\n",
    "Input: nums = [2,3,1,1,4]\n",
    "Output: 2"
   ]
  },
  {
   "cell_type": "code",
   "execution_count": 16,
   "metadata": {},
   "outputs": [],
   "source": [
    "# going with a greedy algorith\n",
    "# gameplan is to start at index 0 and for all the possible moves from the current index to the max possible, check which one of those three options will travel farther, end select that one\n",
    "# for example current index is 0 and we know that the max possible from 0 is 2 (0+2) so we have three options, we can either hop to index 1 or to index 2\n",
    "# the best option is to jump to the one because that will take us farther\n",
    "# index 0 1 2 3 4\n",
    "nums = [2,3,1,1,4]"
   ]
  },
  {
   "cell_type": "code",
   "execution_count": 17,
   "metadata": {},
   "outputs": [],
   "source": [
    "class minJumps():\n",
    "  def jumpcount(self, nums):\n",
    "    if len(nums) <= 1:\n",
    "        return 0\n",
    "    index = 0;    \n",
    "    current_index = 0\n",
    "    farthest_possible = 0\n",
    "    jumps = 0\n",
    "    while index < len(nums)-1:\n",
    "        farthest_possible = max(farthest_possible, nums[index] + index)\n",
    "        if (index == current_index):\n",
    "          jumps+=1    \n",
    "          current_index = farthest_possible\n",
    "        index +=1\n",
    "    return jumps\n",
    "\n"
   ]
  },
  {
   "cell_type": "code",
   "execution_count": 18,
   "metadata": {},
   "outputs": [],
   "source": [
    "mj = minJumps()"
   ]
  },
  {
   "cell_type": "code",
   "execution_count": 19,
   "metadata": {},
   "outputs": [],
   "source": [
    "nums = [2,3,1,1,4]\n",
    "\n",
    "nums2 = [2,3,0,1,4]\n",
    "\n",
    "nums3 = []"
   ]
  },
  {
   "cell_type": "code",
   "execution_count": 20,
   "metadata": {},
   "outputs": [
    {
     "data": {
      "text/plain": [
       "0"
      ]
     },
     "execution_count": 20,
     "metadata": {},
     "output_type": "execute_result"
    }
   ],
   "source": [
    "mj.jumpcount(nums3)"
   ]
  },
  {
   "cell_type": "markdown",
   "metadata": {},
   "source": [
    "# 217. Contains Duplicate\n",
    "\n",
    "> Indented block\n",
    "\n",
    "> Indented block\n",
    "\n",
    "\n",
    "\n",
    "\n",
    "\n",
    "Given an integer array nums, return true if any value appears at least twice in the array, and return false if every element is distinct.\n",
    "\n",
    "Input: nums = [1,2,3,1]\n",
    "Output: true\n",
    "\n",
    "Input: nums = [1,2,3,4]\n",
    "Output: false\n",
    "\n",
    "Input: nums = [1,1,1,3,3,4,3,2,4,2]\n",
    "Output: true"
   ]
  },
  {
   "cell_type": "code",
   "execution_count": 21,
   "metadata": {},
   "outputs": [],
   "source": [
    "# notes: we're talking frequencies that we need to store\n",
    "# 1 option could be iterating through all options and storing frequencies and then checking if any frequency is greater than 1\n",
    "# another option is to check as we update frequencies and if we already have 1 frequency for a number, be break"
   ]
  },
  {
   "cell_type": "code",
   "execution_count": 22,
   "metadata": {},
   "outputs": [],
   "source": [
    "def containsDup(listin):\n",
    "  numhash = {}\n",
    "  for i in listin:\n",
    "    if numhash.setdefault(i, 1) > 1:\n",
    "      return True\n",
    "    numhash[i] = numhash[i] + 1\n",
    "  return False    "
   ]
  },
  {
   "cell_type": "code",
   "execution_count": 23,
   "metadata": {},
   "outputs": [
    {
     "name": "stdout",
     "output_type": "stream",
     "text": [
      "True\n",
      "False\n",
      "True\n"
     ]
    }
   ],
   "source": [
    "numList1 = [1,2,3,1]\n",
    "numList2 = [1,2,3,4]\n",
    "numList3 = [1,1,1,3,3,4,3,2,4,2]\n",
    "print(containsDup(numList1))\n",
    "print(containsDup(numList2))\n",
    "print(containsDup(numList3))"
   ]
  },
  {
   "cell_type": "markdown",
   "metadata": {},
   "source": [
    "### 121. Best Time to Buy and Sell Stock\n",
    "You are given an array prices where prices[i] is the price of a given stock on the ith day.\n",
    "\n",
    "You want to maximize your profit by choosing a single day to buy one stock and choosing a different day in the future to sell that stock.\n",
    "\n",
    "Return the maximum profit you can achieve from this transaction. If you cannot achieve any profit, return 0.\n",
    "\n",
    "Input: prices = [7,1,5,3,6,4]\n",
    "Output: 5\n",
    "Explanation: Buy on day 2 (price = 1) and sell on day 5 (price = 6), profit = 6-1 = 5.\n",
    "Note that buying on day 2 and selling on day 1 is not allowed because you must buy before you sell.\n",
    "\n",
    "Input: prices = [7,6,4,3,1]\n",
    "Output: 0\n",
    "Explanation: In this case, no transactions are done and the max profit = 0."
   ]
  },
  {
   "cell_type": "code",
   "execution_count": 24,
   "metadata": {},
   "outputs": [],
   "source": [
    "def maxProfit(prices):\n",
    "    \"\"\"\n",
    "    :type prices: List[int]\n",
    "    :rtype: int\n",
    "    \"\"\"\n",
    "    print(prices)\n",
    "    print()\n",
    "    max = 0\n",
    "    for i in range(len(prices) -1, -1, -1):\n",
    "      # print()\n",
    "      for j in range(i, -1, -1):\n",
    "        print(j)   \n",
    "        sum = prices[i] - prices[j]     \n",
    "        if sum > max:\n",
    "          max = sum\n",
    "    return max\n",
    "\n",
    "    # Solution exceeds time limits because it is O(n^2)\n",
    "    # So we will implement a dynamic programming solution that will run in (n)\n"
   ]
  },
  {
   "cell_type": "code",
   "execution_count": 25,
   "metadata": {},
   "outputs": [
    {
     "name": "stdout",
     "output_type": "stream",
     "text": [
      "[7, 1, 5, 3, 6, 4]\n",
      "\n",
      "5\n",
      "4\n",
      "3\n",
      "2\n",
      "1\n",
      "0\n",
      "4\n",
      "3\n",
      "2\n",
      "1\n",
      "0\n",
      "3\n",
      "2\n",
      "1\n",
      "0\n",
      "2\n",
      "1\n",
      "0\n",
      "1\n",
      "0\n",
      "0\n",
      "5\n",
      "\n",
      "[7, 6, 4, 3, 1]\n",
      "\n",
      "4\n",
      "3\n",
      "2\n",
      "1\n",
      "0\n",
      "3\n",
      "2\n",
      "1\n",
      "0\n",
      "2\n",
      "1\n",
      "0\n",
      "1\n",
      "0\n",
      "0\n",
      "0\n"
     ]
    }
   ],
   "source": [
    "prices = [7,1,5,3,6,4]\n",
    "prices2 = [7,6,4,3,1]\n",
    "# print(\"return = \" + str(maxProfit(prices)))\n",
    "\n",
    "print(maxProfit(prices))\n",
    "print()\n",
    "print(maxProfit(prices2))"
   ]
  },
  {
   "cell_type": "code",
   "execution_count": 26,
   "metadata": {},
   "outputs": [],
   "source": [
    "def maxProfitDynamicProgramming(prices):\n",
    "    \"\"\"\n",
    "    :type prices: List[int]\n",
    "    :rtype: int\n",
    "    \"\"\"\n",
    "    # print(prices)\n",
    "    # print()\n",
    "    total = 0\n",
    "    local = 0\n",
    "\n",
    "    for i in range(1, len(prices)):\n",
    "      local = max(0, local + prices[i] - prices[i-1])\n",
    "      total = max(total, local)      \n",
    "      print()\n",
    "      print(\"local \" + str(local))\n",
    "      print(\"total \" + str(total))\n",
    "    return total"
   ]
  },
  {
   "cell_type": "code",
   "execution_count": 27,
   "metadata": {},
   "outputs": [
    {
     "name": "stdout",
     "output_type": "stream",
     "text": [
      "\n",
      "local 0\n",
      "total 0\n",
      "\n",
      "local 4\n",
      "total 4\n",
      "\n",
      "local 2\n",
      "total 4\n",
      "\n",
      "local 5\n",
      "total 5\n",
      "\n",
      "local 3\n",
      "total 5\n",
      "5\n",
      "\n",
      "local 0\n",
      "total 0\n",
      "\n",
      "local 0\n",
      "total 0\n",
      "\n",
      "local 0\n",
      "total 0\n",
      "\n",
      "local 0\n",
      "total 0\n",
      "0\n"
     ]
    }
   ],
   "source": [
    "prices = [7,1,5,3,6,4]\n",
    "prices2 = [7,6,4,3,1]\n",
    "\n",
    "print(maxProfitDynamicProgramming(prices))\n",
    "print(maxProfitDynamicProgramming(prices2))"
   ]
  },
  {
   "cell_type": "markdown",
   "metadata": {},
   "source": [
    "### 1. Two Sum\n",
    "Given an array of integers nums and an integer target, return indices of the two numbers such that they add up to target.\n",
    "\n",
    "You may assume that each input would have exactly one solution, and you may not use the same element twice.\n",
    "\n",
    "You can return the answer in any order.\n",
    "\n",
    " \n",
    "\n",
    "Example 1:\n",
    "\n",
    "Input: nums = [2,7,11,15], target = 9\n",
    "Output: [0,1]\n",
    "Explanation: Because nums[0] + nums[1] == 9, we return [0, 1].\n",
    "Example 2:\n",
    "\n",
    "Input: nums = [3,2,4], target = 6\n",
    "Output: [1,2]\n",
    "Example 3:\n",
    "\n",
    "Input: nums = [3,3], target = 6\n",
    "Output: [0,1]"
   ]
  },
  {
   "cell_type": "code",
   "execution_count": 28,
   "metadata": {},
   "outputs": [],
   "source": [
    "class Solution(object):\n",
    "    def twoSum(self, nums, target):\n",
    "        \"\"\"\n",
    "        :type nums: List[int]\n",
    "        :type target: int\n",
    "        :rtype: List[int]\n",
    "        \"\"\"\n",
    "        out = []\n",
    "        for i in range(0, len(nums)):\n",
    "          for j in range(i + 1, len(nums)):\n",
    "            if nums[i] + nums[j] == target:\n",
    "              out.append(i)\n",
    "              out.append(j)\n",
    "        return out"
   ]
  },
  {
   "cell_type": "code",
   "execution_count": 29,
   "metadata": {},
   "outputs": [],
   "source": [
    "# nums = [2,7,11,15]\n",
    "# target = 9\n",
    "\n",
    "nums = [3,2,4]\n",
    "target = 6\n",
    "\n",
    "# nums = [3,3]\n",
    "# target = 6"
   ]
  },
  {
   "cell_type": "code",
   "execution_count": 30,
   "metadata": {},
   "outputs": [],
   "source": [
    "s = Solution()"
   ]
  },
  {
   "cell_type": "code",
   "execution_count": 31,
   "metadata": {},
   "outputs": [
    {
     "data": {
      "text/plain": [
       "[1, 2]"
      ]
     },
     "execution_count": 31,
     "metadata": {},
     "output_type": "execute_result"
    }
   ],
   "source": [
    "s.twoSum(nums, target)"
   ]
  },
  {
   "cell_type": "markdown",
   "metadata": {},
   "source": [
    "94. Binary Tree Inorder Traversal\n",
    "Given the root of a binary tree, return the inorder traversal of its nodes' values.\n",
    "\n",
    " \n",
    "\n",
    "Example 1:\n",
    "Input: root = [1,null,2,3]\n",
    "Output: [1,3,2]\n",
    "\n",
    "Example 2:\n",
    "Input: root = []\n",
    "Output: []\n",
    "\n",
    "Example 3:\n",
    "Input: root = [1]\n",
    "Output: [1]"
   ]
  },
  {
   "cell_type": "code",
   "execution_count": 32,
   "metadata": {},
   "outputs": [],
   "source": [
    "# Definition for a binary tree node.\n",
    "# class TreeNode(object):\n",
    "#     def __init__(self, val=0, left=None, right=None):\n",
    "#         self.val = val\n",
    "#         self.left = left\n",
    "#         self.right = right\n",
    "class Solution(object):\n",
    "    def inorderTraversal(self, root):\n",
    "        \"\"\"\n",
    "        :type root: TreeNode\n",
    "        :rtype: List[int]\n",
    "        \"\"\"\n",
    "        reslist = []\n",
    "        return self.inorderTraversal2(root, reslist)\n",
    "        \n",
    "    def inorderTraversal2(self, root, list):\n",
    "        if (root == None):\n",
    "            return list;\n",
    "        list = self.inorderTraversal2(root.left, list)\n",
    "        list.append(root.val)\n",
    "        list = self.inorderTraversal2(root.right, list)\n",
    "        return list"
   ]
  },
  {
   "cell_type": "markdown",
   "metadata": {},
   "source": [
    "Runtime: 15 ms, faster than 95.60% of Python online submissions for Binary Tree Inorder Traversal.\n",
    "Memory Usage: 13.4 MB, less than 73.47% of Python online submissions for Binary Tree Inorder Traversal."
   ]
  },
  {
   "cell_type": "code",
   "execution_count": 33,
   "metadata": {},
   "outputs": [],
   "source": [
    "# ^^ This is possible iteravely using a stack"
   ]
  },
  {
   "cell_type": "markdown",
   "metadata": {},
   "source": [
    "# All possible coin change problem"
   ]
  },
  {
   "cell_type": "code",
   "execution_count": 55,
   "metadata": {},
   "outputs": [
    {
     "name": "stdout",
     "output_type": "stream",
     "text": [
      "The Coins Array:\n",
      "1\n",
      "5\n",
      "10\n",
      "Solution:ways: [0, 0, 0, 0, 0, 0, 0, 0, 0, 0, 0, 0, 0]\n",
      "ways: [1, 0, 0, 0, 0, 0, 0, 0, 0, 0, 0, 0, 0]\n",
      "\n",
      "Coins[i] 1\n",
      "j 0\n",
      "Coins[i] 1\n",
      "j 1\n",
      "[1, 1, 0, 0, 0, 0, 0, 0, 0, 0, 0, 0, 0]\n",
      "Coins[i] 1\n",
      "j 2\n",
      "[1, 1, 1, 0, 0, 0, 0, 0, 0, 0, 0, 0, 0]\n",
      "Coins[i] 1\n",
      "j 3\n",
      "[1, 1, 1, 1, 0, 0, 0, 0, 0, 0, 0, 0, 0]\n",
      "Coins[i] 1\n",
      "j 4\n",
      "[1, 1, 1, 1, 1, 0, 0, 0, 0, 0, 0, 0, 0]\n",
      "Coins[i] 1\n",
      "j 5\n",
      "[1, 1, 1, 1, 1, 1, 0, 0, 0, 0, 0, 0, 0]\n",
      "Coins[i] 1\n",
      "j 6\n",
      "[1, 1, 1, 1, 1, 1, 1, 0, 0, 0, 0, 0, 0]\n",
      "Coins[i] 1\n",
      "j 7\n",
      "[1, 1, 1, 1, 1, 1, 1, 1, 0, 0, 0, 0, 0]\n",
      "Coins[i] 1\n",
      "j 8\n",
      "[1, 1, 1, 1, 1, 1, 1, 1, 1, 0, 0, 0, 0]\n",
      "Coins[i] 1\n",
      "j 9\n",
      "[1, 1, 1, 1, 1, 1, 1, 1, 1, 1, 0, 0, 0]\n",
      "Coins[i] 1\n",
      "j 10\n",
      "[1, 1, 1, 1, 1, 1, 1, 1, 1, 1, 1, 0, 0]\n",
      "Coins[i] 1\n",
      "j 11\n",
      "[1, 1, 1, 1, 1, 1, 1, 1, 1, 1, 1, 1, 0]\n",
      "Coins[i] 1\n",
      "j 12\n",
      "[1, 1, 1, 1, 1, 1, 1, 1, 1, 1, 1, 1, 1]\n",
      "Coins[i] 5\n",
      "j 0\n",
      "Coins[i] 5\n",
      "j 1\n",
      "Coins[i] 5\n",
      "j 2\n",
      "Coins[i] 5\n",
      "j 3\n",
      "Coins[i] 5\n",
      "j 4\n",
      "Coins[i] 5\n",
      "j 5\n",
      "[1, 1, 1, 1, 1, 2, 1, 1, 1, 1, 1, 1, 1]\n",
      "Coins[i] 5\n",
      "j 6\n",
      "[1, 1, 1, 1, 1, 2, 2, 1, 1, 1, 1, 1, 1]\n",
      "Coins[i] 5\n",
      "j 7\n",
      "[1, 1, 1, 1, 1, 2, 2, 2, 1, 1, 1, 1, 1]\n",
      "Coins[i] 5\n",
      "j 8\n",
      "[1, 1, 1, 1, 1, 2, 2, 2, 2, 1, 1, 1, 1]\n",
      "Coins[i] 5\n",
      "j 9\n",
      "[1, 1, 1, 1, 1, 2, 2, 2, 2, 2, 1, 1, 1]\n",
      "Coins[i] 5\n",
      "j 10\n",
      "[1, 1, 1, 1, 1, 2, 2, 2, 2, 2, 3, 1, 1]\n",
      "Coins[i] 5\n",
      "j 11\n",
      "[1, 1, 1, 1, 1, 2, 2, 2, 2, 2, 3, 3, 1]\n",
      "Coins[i] 5\n",
      "j 12\n",
      "[1, 1, 1, 1, 1, 2, 2, 2, 2, 2, 3, 3, 3]\n",
      "Coins[i] 10\n",
      "j 0\n",
      "Coins[i] 10\n",
      "j 1\n",
      "Coins[i] 10\n",
      "j 2\n",
      "Coins[i] 10\n",
      "j 3\n",
      "Coins[i] 10\n",
      "j 4\n",
      "Coins[i] 10\n",
      "j 5\n",
      "Coins[i] 10\n",
      "j 6\n",
      "Coins[i] 10\n",
      "j 7\n",
      "Coins[i] 10\n",
      "j 8\n",
      "Coins[i] 10\n",
      "j 9\n",
      "Coins[i] 10\n",
      "j 10\n",
      "[1, 1, 1, 1, 1, 2, 2, 2, 2, 2, 4, 3, 3]\n",
      "Coins[i] 10\n",
      "j 11\n",
      "[1, 1, 1, 1, 1, 2, 2, 2, 2, 2, 4, 4, 3]\n",
      "Coins[i] 10\n",
      "j 12\n",
      "[1, 1, 1, 1, 1, 2, 2, 2, 2, 2, 4, 4, 4]\n",
      "4\n"
     ]
    }
   ],
   "source": [
    "def getNumberOfWays(N, Coins):\n",
    " \n",
    "    # Create the ways array to 1 plus the amount\n",
    "    # to stop overflow\n",
    "    ways = [0] * (N + 1);\n",
    "    # Set the first way to 1 because its 0 and\n",
    "    # there is 1 way to make 0 with 0 coins\n",
    "    print(\"ways: \" + str(ways))\n",
    "    ways[0] = 1;\n",
    "    print(\"ways: \" + str(ways))\n",
    "    print()\n",
    "    # Go through all of the coins\n",
    "    for i in range(len(Coins)):\n",
    "        # Make a comparison to each index value\n",
    "        # of ways with the coin value.\n",
    "        for j in range(len(ways)):\n",
    "            print(\"Coins[i] \" + str(Coins[i]))\n",
    "            print(\"j \" + str(j))\n",
    "            if (Coins[i] <= j):\n",
    "                # Update the ways array\n",
    "                ways[j] += ways[(int)(j - Coins[i])];\n",
    "                print(str(ways))\n",
    "    # return the value at the Nth position\n",
    "    # of the ways array.\n",
    "    return ways[N];\n",
    "def printArray(coins):\n",
    "    for i in coins:\n",
    "        print(i);\n",
    "if __name__ == '__main__':\n",
    "    Coins = [1, 5, 10];\n",
    "    print(\"The Coins Array:\");\n",
    "    printArray(Coins);\n",
    "    print(\"Solution:\",end=\"\");\n",
    "    print(getNumberOfWays(12, Coins));"
   ]
  },
  {
   "cell_type": "code",
   "execution_count": null,
   "metadata": {},
   "outputs": [],
   "source": []
  }
 ],
 "metadata": {
  "kernelspec": {
   "display_name": "Python 3",
   "language": "python",
   "name": "python3"
  },
  "language_info": {
   "codemirror_mode": {
    "name": "ipython",
    "version": 3
   },
   "file_extension": ".py",
   "mimetype": "text/x-python",
   "name": "python",
   "nbconvert_exporter": "python",
   "pygments_lexer": "ipython3",
   "version": "3.8.5"
  }
 },
 "nbformat": 4,
 "nbformat_minor": 4
}
